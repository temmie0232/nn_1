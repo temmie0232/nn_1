{
 "cells": [
  {
   "cell_type": "markdown",
   "id": "61a273c8",
   "metadata": {},
   "source": [
    "\n",
    "### 仮想環境\n",
    "```bash\n",
    "python -m venv venv\n",
    "source venv/bin/activate \n",
    "```"
   ]
  },
  {
   "cell_type": "markdown",
   "id": "699a9d84",
   "metadata": {},
   "source": [
    "### ライブラリインストール\n",
    "```bash\n",
    "pip install -r requirements.txt --index-url https://download.pytorch.org/whl/cu118\n",
    "```"
   ]
  }
 ],
 "metadata": {
  "language_info": {
   "name": "python"
  }
 },
 "nbformat": 4,
 "nbformat_minor": 5
}
